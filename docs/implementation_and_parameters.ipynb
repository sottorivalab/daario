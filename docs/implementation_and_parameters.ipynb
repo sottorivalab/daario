{
 "cells": [
  {
   "attachments": {},
   "cell_type": "markdown",
   "metadata": {},
   "source": [
    "# Finding your way in DAARIOs interface"
   ]
  },
  {
   "attachments": {},
   "cell_type": "markdown",
   "metadata": {},
   "source": [
    "The idea with which we conceived DAARIO was to give great flexibility in structuring the network and tuning most of the hyperparameters both at the level of architecture and inference. The very definition of the training interface is actually quite scary. But don't despair this notebook is for exactly what knobs move what. As nice as it is to have easy-to-use tools with few parameters, I am convinced that knowing exactly what you are running in great detail allows you to get better results and (maybe) learn something new.\n",
    "\n",
    "Let us begin with a brief idea of how the package is structured: \n",
    "* First we have an interface function that allows us to do an entire training cycle at fixed parameters and takes care of almost everything.\n",
    "* The probabilistic model is defined in Pyro and has a model function that describes the generative process and a driving function that describes the variational distributions for inference\n",
    "* The two most important parts of the model, i.e., the decoder and encoder are implemented as modules of PyTorch \n"
   ]
  },
  {
   "cell_type": "markdown",
   "metadata": {},
   "source": []
  }
 ],
 "metadata": {
  "language_info": {
   "name": "python"
  },
  "orig_nbformat": 4
 },
 "nbformat": 4,
 "nbformat_minor": 2
}
