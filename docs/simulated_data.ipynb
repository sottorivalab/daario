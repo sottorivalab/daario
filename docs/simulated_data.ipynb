{
 "cells": [
  {
   "cell_type": "code",
   "execution_count": 17,
   "id": "63f34787",
   "metadata": {
    "tags": []
   },
   "outputs": [
    {
     "name": "stdout",
     "output_type": "stream",
     "text": [
      "The autoreload extension is already loaded. To reload it, use:\n",
      "  %reload_ext autoreload\n"
     ]
    }
   ],
   "source": [
    "import sys\n",
    "sys.path.append(\"../src/\")\n",
    "\n",
    "%load_ext autoreload\n",
    "%autoreload 2\n",
    "\n",
    "import scdeepaa"
   ]
  },
  {
   "cell_type": "code",
   "execution_count": 18,
   "id": "e260dbb1",
   "metadata": {
    "tags": []
   },
   "outputs": [],
   "source": [
    "import numpy as np\n",
    "import scanpy as sc\n",
    "import pandas as pd\n",
    "import matplotlib.pyplot as plt\n"
   ]
  },
  {
   "cell_type": "code",
   "execution_count": 19,
   "id": "eafc6272",
   "metadata": {
    "tags": []
   },
   "outputs": [],
   "source": [
    "dataset_name = 'MMD-MA'\n",
    "dataset_color = 'lime'\n",
    "modality_names = ['Modality 1', 'Modality 2']\n",
    "data_folder = '../../JAMIE/examples/data/UnionCom/MMD/'\n",
    "data1 = np.loadtxt(data_folder + \"s1_mapped1.txt\")\n",
    "data2 = np.loadtxt(data_folder + \"s1_mapped2.txt\")\n",
    "type1 = np.loadtxt(data_folder + \"s1_type1.txt\")\n",
    "type2 = np.loadtxt(data_folder + \"s1_type2.txt\")\n",
    "type1 = type1.astype(int)\n",
    "type2 = type2.astype(int)\n",
    "type1 = np.array([f'Cell Type {i}' for i in type1])\n",
    "type2 = np.array([f'Cell Type {i}' for i in type2])\n",
    "\n",
    "# Labels\n",
    "labels = [type1, type2]\n",
    "features = [None, None]\n",
    "feature_dict = {}"
   ]
  },
  {
   "cell_type": "code",
   "execution_count": 39,
   "id": "99281012",
   "metadata": {
    "tags": []
   },
   "outputs": [
    {
     "name": "stderr",
     "output_type": "stream",
     "text": [
      "ELBO: 2562360.18750  :   0%|          | 2/2000 [00:00<01:49, 18.29it/s]"
     ]
    },
    {
     "name": "stdout",
     "output_type": "stream",
     "text": [
      "Fitting full model!\n"
     ]
    },
    {
     "name": "stderr",
     "output_type": "stream",
     "text": [
      "ELBO: 2309204.37500  : 100%|██████████| 2000/2000 [01:35<00:00, 20.86it/s]\n",
      "/home/salvatore.milite/miniconda3/envs/scdeepaa/lib/python3.11/site-packages/pyro/primitives.py:137: RuntimeWarning: trying to observe a value outside of inference at loss\n",
      "  warnings.warn(\n"
     ]
    }
   ],
   "source": [
    "res = scdeepaa.fit_deepAA(\n",
    "    [data1, data2],\n",
    "    [np.ones(data1.shape[0]), np.ones(data2.shape[0])],\n",
    "    [\"G\", \"G\"],\n",
    "    hidden_dims_dec_common = [128,64],\n",
    "    hidden_dims_dec_last = [512],\n",
    "    hidden_dims_enc_ind = [512],\n",
    "    hidden_dims_enc_common = [256],\n",
    "    hidden_dims_enc_pre_Z = [128, 64],\n",
    "    lr = 0.001,\n",
    "    gamma_lr = 0.01,\n",
    "    linearize_encoder = False,\n",
    "    linearize_decoder = False,\n",
    "    steps = 2000,\n",
    "    narchetypes = 3,\n",
    "    batch_size = 200,\n",
    "    fix_Z = False)"
   ]
  },
  {
   "cell_type": "code",
   "execution_count": null,
   "id": "bf7a2cfb",
   "metadata": {
    "tags": []
   },
   "outputs": [],
   "source": [
    "import scanpy as sc\n",
    "import anndata as ad"
   ]
  },
  {
   "cell_type": "code",
   "execution_count": null,
   "id": "c4df15f4",
   "metadata": {
    "tags": []
   },
   "outputs": [],
   "source": [
    "data1_adata = ad.AnnData(data1)\n",
    "data2_adata = ad.AnnData(data2)\n",
    "\n",
    "sc.tl.pca(data1_adata, svd_solver='arpack')\n",
    "sc.tl.pca(data2_adata, svd_solver='arpack')\n",
    "\n",
    "sc.pp.neighbors(data1_adata)\n",
    "sc.pp.neighbors(data2_adata)\n",
    "\n",
    "\n",
    "sc.tl.umap(data1_adata)\n",
    "sc.tl.umap(data2_adata)"
   ]
  },
  {
   "cell_type": "code",
   "execution_count": null,
   "id": "1d3a3bb3",
   "metadata": {
    "tags": []
   },
   "outputs": [],
   "source": [
    "data1_adata, arc_names1 = scdeepaa.add_to_obs_adata(res, data1_adata)\n",
    "data2_adata, arc_names2 = scdeepaa.add_to_obs_adata(res, data2_adata)"
   ]
  },
  {
   "cell_type": "code",
   "execution_count": null,
   "id": "da9db60a",
   "metadata": {
    "tags": []
   },
   "outputs": [],
   "source": [
    "sc.pl.umap(data1_adata, color=arc_names1)"
   ]
  },
  {
   "cell_type": "code",
   "execution_count": null,
   "id": "174d1492",
   "metadata": {
    "tags": []
   },
   "outputs": [],
   "source": [
    "sc.pl.umap(data2_adata, color=arc_names2)"
   ]
  },
  {
   "cell_type": "code",
   "execution_count": 26,
   "id": "0cd3c9d2",
   "metadata": {
    "tags": []
   },
   "outputs": [
    {
     "ename": "ModuleNotFoundError",
     "evalue": "No module named 'mudata'",
     "output_type": "error",
     "traceback": [
      "\u001b[0;31m---------------------------------------------------------------------------\u001b[0m",
      "\u001b[0;31mModuleNotFoundError\u001b[0m                       Traceback (most recent call last)",
      "Cell \u001b[0;32mIn[26], line 1\u001b[0m\n\u001b[0;32m----> 1\u001b[0m \u001b[38;5;28;01mimport\u001b[39;00m \u001b[38;5;21;01mmudata\u001b[39;00m \u001b[38;5;28;01mas\u001b[39;00m \u001b[38;5;21;01mmd\u001b[39;00m\n\u001b[1;32m      2\u001b[0m \u001b[38;5;28;01mfrom\u001b[39;00m \u001b[38;5;21;01mmudata\u001b[39;00m \u001b[38;5;28;01mimport\u001b[39;00m MuData \n\u001b[1;32m      3\u001b[0m \u001b[38;5;28;01mimport\u001b[39;00m \u001b[38;5;21;01mmuon\u001b[39;00m \u001b[38;5;28;01mas\u001b[39;00m \u001b[38;5;21;01mmu\u001b[39;00m\n",
      "\u001b[0;31mModuleNotFoundError\u001b[0m: No module named 'mudata'"
     ]
    }
   ],
   "source": [
    "import mudata as md\n",
    "from mudata import MuData \n",
    "import muon as mu"
   ]
  },
  {
   "cell_type": "code",
   "execution_count": null,
   "id": "36e17482",
   "metadata": {
    "tags": []
   },
   "outputs": [],
   "source": [
    "mdata = MuData({\"data1\": data1_adata, \"data2\": data2_adata})\n",
    "mdata"
   ]
  },
  {
   "cell_type": "code",
   "execution_count": null,
   "id": "1ca9b3eb",
   "metadata": {
    "tags": []
   },
   "outputs": [],
   "source": [
    "_ = mu.tl.mofa(mdata, n_factors = 3)\n"
   ]
  },
  {
   "cell_type": "code",
   "execution_count": null,
   "id": "dc9f2a2c",
   "metadata": {
    "tags": []
   },
   "outputs": [],
   "source": [
    "def add_MOFA_to_obs_adata(muon, adata):\n",
    "    col_names = [ \"factor\" + str(i + 1) for i in np.arange(muon.obsm['X_mofa'].shape[1])]\n",
    "    for i in range(len(col_names)):\n",
    "        adata.obs[col_names[i]] = muon.obsm['X_mofa'][:,i]\n",
    "    return adata, col_names"
   ]
  },
  {
   "cell_type": "code",
   "execution_count": null,
   "id": "ec3b530b",
   "metadata": {
    "scrolled": true,
    "tags": []
   },
   "outputs": [],
   "source": [
    "import matplotlib.pyplot as plt\n",
    "plt.rcParams['figure.figsize'] = [8, 6]\n",
    "\n",
    "plt.rcParams[\"figure.autolayout\"] = True\n",
    "\n",
    "\n",
    "\n",
    "data2_adata, factor_names2 = add_MOFA_to_obs_adata(mdata, data2_adata)\n",
    "sc.pl.umap(data2_adata, color=factor_names2, return_fig=True) \n",
    "plt.suptitle(f\"MOFA+ on simulated data\",fontsize = \"xx-large\", y = 1.05 , x = 0.45)\n",
    "plt.show()\n",
    "sc.pl.umap(data2_adata, color=arc_names2, return_fig=True) \n",
    "plt.suptitle(f\"Deep AA on simulated data\",fontsize = \"xx-large\", y = 1.05 , x = 0.45)\n",
    "plt.show()\n"
   ]
  },
  {
   "cell_type": "code",
   "execution_count": null,
   "id": "1a5b36e3",
   "metadata": {},
   "outputs": [],
   "source": []
  },
  {
   "cell_type": "code",
   "execution_count": null,
   "id": "da040035",
   "metadata": {},
   "outputs": [],
   "source": []
  },
  {
   "cell_type": "code",
   "execution_count": null,
   "id": "dc48f416-d2cf-464f-89ef-0750408e5d3f",
   "metadata": {},
   "outputs": [],
   "source": []
  }
 ],
 "metadata": {
  "kernelspec": {
   "display_name": "Python [conda env:scdeepaa]",
   "language": "python",
   "name": "conda-env-scdeepaa-py"
  },
  "language_info": {
   "codemirror_mode": {
    "name": "ipython",
    "version": 3
   },
   "file_extension": ".py",
   "mimetype": "text/x-python",
   "name": "python",
   "nbconvert_exporter": "python",
   "pygments_lexer": "ipython3",
   "version": "3.11.6"
  }
 },
 "nbformat": 4,
 "nbformat_minor": 5
}
